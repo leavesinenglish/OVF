{
 "cells": [
  {
   "cell_type": "code",
   "execution_count": 66,
   "metadata": {
    "collapsed": true,
    "pycharm": {
     "name": "#%%\n"
    }
   },
   "outputs": [],
   "source": [
    "import numpy as np"
   ]
  },
  {
   "cell_type": "code",
   "execution_count": 67,
   "outputs": [],
   "source": [
    "a = 1\n",
    "U0 = 10\n",
    "E0 = -7\n",
    "epsilon = 10e-11\n",
    "i = -U0\n",
    "j = (np.pi) ** 2 / (8 * a ** 2) - U0"
   ],
   "metadata": {
    "collapsed": false,
    "pycharm": {
     "name": "#%%\n"
    }
   }
  },
  {
   "cell_type": "markdown",
   "source": [
    "# Уравнение f(x) = 0"
   ],
   "metadata": {
    "collapsed": false,
    "pycharm": {
     "name": "#%% md\n"
    }
   }
  },
  {
   "cell_type": "code",
   "execution_count": 68,
   "outputs": [],
   "source": [
    "def f(x):\n",
    "    return 1 / np.tan(np.sqrt(2 * (a ** 2) * U0 * (1 + x / U0))) - np.sqrt(-U0 / x - 1.0)"
   ],
   "metadata": {
    "collapsed": false,
    "pycharm": {
     "name": "#%%\n"
    }
   }
  },
  {
   "cell_type": "code",
   "execution_count": 69,
   "outputs": [],
   "source": [
    "def df(x):\n",
    "    return - (a ** 2) / (\n",
    "                (np.sin(np.sqrt(2 * a * 2 * U0 * (1 + x / U0))) ** 2) * np.sqrt(2 * a ** 2 * U0 * (1 + x / U0))) - (\n",
    "                       U0 / 2) / (x ** 2 * ((-U0 / x) - 1))"
   ],
   "metadata": {
    "collapsed": false,
    "pycharm": {
     "name": "#%%\n"
    }
   }
  },
  {
   "cell_type": "markdown",
   "source": [
    "# Метод дихотомии"
   ],
   "metadata": {
    "collapsed": false,
    "pycharm": {
     "name": "#%% md\n"
    }
   }
  },
  {
   "cell_type": "code",
   "execution_count": 70,
   "outputs": [
    {
     "name": "stderr",
     "output_type": "stream",
     "text": [
      "C:\\Users\\HUAWEI\\AppData\\Local\\Temp\\ipykernel_18200\\3981971509.py:2: RuntimeWarning: divide by zero encountered in double_scalars\n",
      "  return 1 / np.tan(np.sqrt(2 * (a ** 2) * U0 * (1 + x / U0))) - np.sqrt(-U0 / x - 1.0)\n"
     ]
    }
   ],
   "source": [
    "def dichotomy_method(a, b, precision=epsilon, func=f):\n",
    "    delta = (b - a) / 2\n",
    "    if delta < precision:\n",
    "        return (a + b) / 2\n",
    "    if func(a) * func((a + b) / 2) <= 0:\n",
    "        return dichotomy_method(a, (a + b) / 2, precision, func)\n",
    "    else:\n",
    "        return dichotomy_method((a + b) / 2, b, precision, func)\n",
    "\n",
    "dichotomy_solution = dichotomy_method(i, j)"
   ],
   "metadata": {
    "collapsed": false,
    "pycharm": {
     "name": "#%%\n"
    }
   }
  },
  {
   "cell_type": "markdown",
   "source": [
    "# Метод простых итераций"
   ],
   "metadata": {
    "collapsed": false,
    "pycharm": {
     "name": "#%% md\n"
    }
   },
   "execution_count": 1
  },
  {
   "cell_type": "code",
   "execution_count": 71,
   "outputs": [],
   "source": [
    "x0 = (i+j)/2  #начальное приближение\n",
    "L = 1 / df((i+j)/2)\n",
    "\n",
    "def simple_iterations_method(x, x_initial=j, precision=epsilon, func=f):\n",
    "    if np.abs(1 - L * df(x)) <= 1:\n",
    "        delta = np.abs(x_initial - x)\n",
    "        if delta > precision:\n",
    "            return simple_iterations_method(x - L * func(x), x_initial=x)\n",
    "        else:\n",
    "            return x\n",
    "\n",
    "simple_iterations_solution = simple_iterations_method(x0)"
   ],
   "metadata": {
    "collapsed": false,
    "pycharm": {
     "name": "#%%\n"
    }
   }
  },
  {
   "cell_type": "markdown",
   "source": [
    "# Метод Ньютона"
   ],
   "metadata": {
    "collapsed": false,
    "pycharm": {
     "name": "#%% md\n"
    }
   }
  },
  {
   "cell_type": "code",
   "execution_count": 72,
   "outputs": [],
   "source": [
    "def newtons_method(x, x_initial=j, precision=epsilon):\n",
    "    delta = np.abs(x_initial - x)\n",
    "    if delta > precision:\n",
    "        return newtons_method(x - f(x) / df(x), x)\n",
    "    else:\n",
    "        return x\n",
    "\n",
    "newtons_solution = newtons_method(x0)"
   ],
   "metadata": {
    "collapsed": false,
    "pycharm": {
     "name": "#%%\n"
    }
   }
  },
  {
   "cell_type": "markdown",
   "source": [
    "# Результаты"
   ],
   "metadata": {
    "collapsed": false,
    "pycharm": {
     "name": "#%% md\n"
    }
   }
  },
  {
   "cell_type": "code",
   "execution_count": 73,
   "outputs": [
    {
     "name": "stdout",
     "output_type": "stream",
     "text": [
      "Dichotomy method: -9.180259926266743\n",
      "f(-9.180259926266743) = 3.501976486575131e-11\n",
      "Simple iterations method: -9.180259926292148\n",
      "f(-9.180259926292148) = 6.167660826505994e-11\n",
      "Newtons method: -9.1802599262554\n",
      "f(-9.1802599262554) = 2.311889568673564e-11\n"
     ]
    }
   ],
   "source": [
    "print('Dichotomy method: ' + str(dichotomy_solution))\n",
    "print('f({}) = {}'.format(dichotomy_solution, f(dichotomy_solution)))\n",
    "print('Simple iterations method: ' + str(simple_iterations_solution))\n",
    "print('f({}) = {}'.format(simple_iterations_solution, f(simple_iterations_solution)))\n",
    "print('Newtons method: ' + str(newtons_solution))\n",
    "print('f({}) = {}'.format(newtons_solution, f(newtons_solution)))"
   ],
   "metadata": {
    "collapsed": false,
    "pycharm": {
     "name": "#%%\n"
    }
   }
  }
 ],
 "metadata": {
  "kernelspec": {
   "display_name": "Python 3",
   "language": "python",
   "name": "python3"
  },
  "language_info": {
   "codemirror_mode": {
    "name": "ipython",
    "version": 2
   },
   "file_extension": ".py",
   "mimetype": "text/x-python",
   "name": "python",
   "nbconvert_exporter": "python",
   "pygments_lexer": "ipython2",
   "version": "2.7.6"
  }
 },
 "nbformat": 4,
 "nbformat_minor": 0
}