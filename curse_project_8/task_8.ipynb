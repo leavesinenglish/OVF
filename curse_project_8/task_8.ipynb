{
 "cells": [
  {
   "cell_type": "code",
   "execution_count": 1,
   "metadata": {
    "collapsed": true
   },
   "outputs": [],
   "source": [
    "import matplotlib as mpl\n",
    "import numpy as np\n",
    "import matplotlib.pyplot as plt\n",
    "from matplotlib import animation\n",
    "\n",
    "mpl.use(\"TkAgg\")"
   ]
  },
  {
   "cell_type": "markdown",
   "source": [
    "\n",
    "$\\text{Найти зависимость температуры от времени в центре двумерной квадратной области в задаче с источником тепла и анизотропной теплопроводностью}\\\\$\n",
    "$$\\frac{\\partial u}{\\partial t}=\\frac{\\partial ^2 u}{\\partial x^2}+0.5\\frac{\\partial ^2 u}{\\partial y^2}+f(x,y,t) \\\\$$\n",
    "$$\\text{при условии, что температура на границах квадрата равна нулю}\\\\$$\n",
    "$$u(−L, y, t) = u(L, y, t) = u(x, −L, t) = u(x, L, t) = 0, L = 1 \\\\$$\n",
    "$\\text{Интенсивность источника:}\\\\$\n",
    "$$f(x,y) = (1-{x^2}/L^2)(1-y^2/L^2) + (y/L+1)(1-y^2/L^2)sin(wt), w=2\\pi\\\\$$\n",
    "$\\text{Вычислить и наприсовать зависимость от времени температуры в центре квадрата.}$"
   ],
   "metadata": {
    "collapsed": false
   }
  },
  {
   "cell_type": "code",
   "execution_count": 2,
   "outputs": [],
   "source": [
    "L = 1\n",
    "x = np.linspace(-L, L, int(L / 0.03))\n",
    "y = np.linspace(-L, L, int(L / 0.03))\n",
    "t = np.linspace(0, 1, int(1 / 0.01))\n",
    "\n",
    "def f(x_, y_, t_):\n",
    "    return (1 - x_ ** 2 / L ** 2) * (1 - y_ ** 2 / L ** 2) + (y_ / L + 1) * (1 - y_ ** 2 / L ** 2) * np.sin(\n",
    "        2 * np.pi * t_)"
   ],
   "metadata": {
    "collapsed": false
   }
  },
  {
   "cell_type": "code",
   "execution_count": 3,
   "outputs": [
    {
     "ename": "SyntaxError",
     "evalue": "no binding for nonlocal 'plot' found (518975223.py, line 3)",
     "output_type": "error",
     "traceback": [
      "\u001B[1;36m  Cell \u001B[1;32mIn [3], line 3\u001B[1;36m\u001B[0m\n\u001B[1;33m    nonlocal plot\u001B[0m\n\u001B[1;37m    ^\u001B[0m\n\u001B[1;31mSyntaxError\u001B[0m\u001B[1;31m:\u001B[0m no binding for nonlocal 'plot' found\n"
     ]
    }
   ],
   "source": [
    "X, Y = np.meshgrid(x,y)\n",
    "def update_plot(frame):\n",
    "        nonlocal plot\n",
    "        plot.remove()\n",
    "        plot = ax.plot_surface(X, Y, t[frame], cmap='magma', vmin=0, vmax=1)\n",
    "        return plot,\n",
    "\n",
    "fig = plt.figure(figsize=(100, 100), dpi=200)\n",
    "ax = plt.axes(projection='3d')\n",
    "ax.set_zlim(0, 1)\n",
    "plot = ax.plot_surface(X, Y, t[0])\n",
    "fig.colorbar(plot, ax=ax)\n",
    "ax.set_title('3D Heat map')\n",
    "anim = animation.FuncAnimation(fig, update_plot, len(t), interval=0.1)\n",
    "plt.show()"
   ],
   "metadata": {
    "collapsed": false
   }
  }
 ],
 "metadata": {
  "kernelspec": {
   "display_name": "Python 3",
   "language": "python",
   "name": "python3"
  },
  "language_info": {
   "codemirror_mode": {
    "name": "ipython",
    "version": 2
   },
   "file_extension": ".py",
   "mimetype": "text/x-python",
   "name": "python",
   "nbconvert_exporter": "python",
   "pygments_lexer": "ipython2",
   "version": "2.7.6"
  }
 },
 "nbformat": 4,
 "nbformat_minor": 0
}
